{
 "cells": [
  {
   "cell_type": "markdown",
   "id": "8c98fcf6-18b9-432b-93dd-206157093cf9",
   "metadata": {},
   "source": [
    "Assingment 1\n"
   ]
  },
  {
   "cell_type": "code",
   "execution_count": 1,
   "id": "d14d0590-8b6d-4d56-b932-2e5f4fc93026",
   "metadata": {},
   "outputs": [
    {
     "name": "stdin",
     "output_type": "stream",
     "text": [
      "Enter the length of the password:  6\n"
     ]
    },
    {
     "name": "stdout",
     "output_type": "stream",
     "text": [
      "Choose character set:\n",
      "1. Digits\n",
      "2. Letters\n",
      "3. Digits and Letters\n",
      "4. Digits, Letters, and Punctuation\n"
     ]
    },
    {
     "name": "stdin",
     "output_type": "stream",
     "text": [
      "Enter your choice (1-4):  1\n"
     ]
    },
    {
     "name": "stdout",
     "output_type": "stream",
     "text": [
      "Generated Password: 856126\n",
      "MAC Address: e4:a8:df:c1:53:67\n",
      "Time Taken: 0.000013 seconds\n",
      "Memory Used: 66420.00 KB\n"
     ]
    }
   ],
   "source": [
    "import random\n",
    "import string\n",
    "import time\n",
    "import uuid\n",
    "import os\n",
    "import psutil\n",
    "\n",
    "def generate_password(length, charset):\n",
    "    return ''.join(random.choice(charset) for _ in range(length))\n",
    "\n",
    "def main():\n",
    "    # Take user input for password length\n",
    "    length = int(input(\"Enter the length of the password: \"))\n",
    "\n",
    "    # Provide options for character set\n",
    "    print(\"Choose character set:\")\n",
    "    print(\"1. Digits\")\n",
    "    print(\"2. Letters\")\n",
    "    print(\"3. Digits and Letters\")\n",
    "    print(\"4. Digits, Letters, and Punctuation\")\n",
    "    choice = int(input(\"Enter your choice (1-4): \"))\n",
    "\n",
    "    if choice == 1:\n",
    "        charset = string.digits\n",
    "    elif choice == 2:\n",
    "        charset = string.ascii_letters\n",
    "    elif choice == 3:\n",
    "        charset = string.ascii_letters + string.digits\n",
    "    elif choice == 4:\n",
    "        charset = string.ascii_letters + string.digits + string.punctuation\n",
    "    else:\n",
    "        print(\"Invalid choice!\")\n",
    "        return\n",
    "\n",
    "    # Generate password\n",
    "    start_time = time.time()\n",
    "    password = generate_password(length, charset)\n",
    "    end_time = time.time()\n",
    "\n",
    "    # Get MAC address\n",
    "    mac = uuid.getnode()\n",
    "    mac_address = ':'.join(['{:02x}'.format((mac >> elements) & 0xff) for elements in range(0, 8*6, 8)][::-1])\n",
    "\n",
    "    # Calculate time taken\n",
    "    time_taken = end_time - start_time\n",
    "\n",
    "    # Calculate memory used\n",
    "    process = psutil.Process(os.getpid())\n",
    "    memory_used = process.memory_info().rss / 1024  # in KB\n",
    "\n",
    "    # Print results\n",
    "    print(f\"Generated Password: {password}\")\n",
    "    print(f\"MAC Address: {mac_address}\")\n",
    "    print(f\"Time Taken: {time_taken:.6f} seconds\")\n",
    "    print(f\"Memory Used: {memory_used:.2f} KB\")\n",
    "\n",
    "if __name__ == \"__main__\":\n",
    "    main()\n",
    "\n",
    "\n"
   ]
  },
  {
   "cell_type": "markdown",
   "id": "07dc42e3-b38d-401a-bda2-db99e3858e29",
   "metadata": {},
   "source": [
    "Assingment 2\n"
   ]
  },
  {
   "cell_type": "code",
   "execution_count": 2,
   "id": "f80edbcd-1954-4439-b343-d49a69e2e641",
   "metadata": {},
   "outputs": [
    {
     "name": "stdin",
     "output_type": "stream",
     "text": [
      "Enter the length of the password:  4\n"
     ]
    },
    {
     "name": "stdout",
     "output_type": "stream",
     "text": [
      "Choose character set:\n",
      "1. Digits\n",
      "2. Letters\n",
      "3. Digits and Letters\n",
      "4. Digits, Letters, and Punctuation\n"
     ]
    },
    {
     "name": "stdin",
     "output_type": "stream",
     "text": [
      "Enter your choice (1-4):  2\n"
     ]
    },
    {
     "name": "stdout",
     "output_type": "stream",
     "text": [
      "Generated Password: Gukl\n",
      "MAC Address: e4:a8:df:c1:53:67\n",
      "Time Taken: 0.000030 seconds\n",
      "Memory Used: 66420.00 KB\n"
     ]
    }
   ],
   "source": [
    "import random\n",
    "import string\n",
    "import time\n",
    "import uuid\n",
    "import os\n",
    "import psutil\n",
    "\n",
    "def generate_password(length, charset):\n",
    "    return ''.join(random.choice(charset) for _ in range(length))\n",
    "\n",
    "def main():\n",
    "    # Take user input for password length\n",
    "    length = int(input(\"Enter the length of the password: \"))\n",
    "\n",
    "    # Provide options for character set\n",
    "    print(\"Choose character set:\")\n",
    "    print(\"1. Digits\")\n",
    "    print(\"2. Letters\")\n",
    "    print(\"3. Digits and Letters\")\n",
    "    print(\"4. Digits, Letters, and Punctuation\")\n",
    "    choice = int(input(\"Enter your choice (1-4): \"))\n",
    "\n",
    "    if choice == 1:\n",
    "        charset = string.digits\n",
    "    elif choice == 2:\n",
    "        charset = string.ascii_letters\n",
    "    elif choice == 3:\n",
    "        charset = string.ascii_letters + string.digits\n",
    "    elif choice == 4:\n",
    "        charset = string.ascii_letters + string.digits + string.punctuation\n",
    "    else:\n",
    "        print(\"Invalid choice!\")\n",
    "        return\n",
    "\n",
    "    # Generate password\n",
    "    start_time = time.time()\n",
    "    password = generate_password(length, charset)\n",
    "    end_time = time.time()\n",
    "\n",
    "    # Get MAC address\n",
    "    mac = uuid.getnode()\n",
    "    mac_address = ':'.join(['{:02x}'.format((mac >> elements) & 0xff) for elements in range(0, 8*6, 8)][::-1])\n",
    "\n",
    "    # Calculate time taken\n",
    "    time_taken = end_time - start_time\n",
    "\n",
    "    # Calculate memory used\n",
    "    process = psutil.Process(os.getpid())\n",
    "    memory_used = process.memory_info().rss / 1024  # in KB\n",
    "\n",
    "    # Print results\n",
    "    print(f\"Generated Password: {password}\")\n",
    "    print(f\"MAC Address: {mac_address}\")\n",
    "    print(f\"Time Taken: {time_taken:.6f} seconds\")\n",
    "    print(f\"Memory Used: {memory_used:.2f} KB\")\n",
    "\n",
    "if __name__ == \"__main__\":\n",
    "    main()\n",
    "\n",
    "\n"
   ]
  },
  {
   "cell_type": "markdown",
   "id": "afc6968b-71b0-4b52-9c36-21d826951590",
   "metadata": {},
   "source": [
    "**Week 0**\n"
   ]
  },
  {
   "cell_type": "code",
   "execution_count": 2,
   "id": "c90aced0-fe9d-43e8-a312-1f524a16f6bb",
   "metadata": {},
   "outputs": [
    {
     "name": "stdout",
     "output_type": "stream",
     "text": [
      "Mean Age: 25.42901162983334\n",
      "Mode Age: 23.0\n",
      "Median Age: 25.0\n"
     ]
    },
    {
     "data": {
      "image/png": "[encoded data removed]",
      "text/plain": [
       "<Figure size 1000x600 with 1 Axes>"
      ]
     },
     "metadata": {},
     "output_type": "display_data"
    },
    {
     "name": "stdout",
     "output_type": "stream",
     "text": [
      "\n",
      "Mean SALES: 3446.003537414966\n",
      "Mode SALES: 652.35\n",
      "Median SALES: 3160.74\n"
     ]
    },
    {
     "data": {
      "image/png": "[encoded data removed]",
      "text/plain": [
       "<Figure size 1000x600 with 1 Axes>"
      ]
     },
     "metadata": {},
     "output_type": "display_data"
    },
    {
     "name": "stdout",
     "output_type": "stream",
     "text": [
      "MAC Address: e4:a8:df:c1:53:67\n",
      "Memory used: 72.75 MB\n",
      "Time taken: 0.8888 seconds\n"
     ]
    }
   ],
   "source": [
    "import pandas as pd\n",
    "import matplotlib.pyplot as plt\n",
    "import seaborn as sns\n",
    "import warnings\n",
    "import time\n",
    "import psutil\n",
    "import uuid\n",
    "warnings.filterwarnings(\"ignore\")\n",
    "# Function to handle missing and NULL values\n",
    "def handle_missing_values(df):\n",
    "    df.dropna(inplace=True)  # Remove rows with missing values\n",
    "  \n",
    "# Function to calculate mean, mode, and median\n",
    "def calculate_stats(df, attribute):\n",
    "    mean = df[attribute].mean()\n",
    "    mode = df[attribute].mode().values[0]\n",
    "    median = df[attribute].median()\n",
    "    return mean, mode, median\n",
    "\n",
    "# Function to visualize a column attribute with histogram\n",
    "def visualize_attribute(df, attribute):\n",
    "    plt.figure(figsize=(10, 6))\n",
    "    sns.histplot(df[attribute], kde=True)  # Include KDE for smoother distribution\n",
    "    plt.title(f\"Distribution of {attribute}\")\n",
    "    plt.xlabel(attribute)\n",
    "    plt.ylabel(\"Frequency\")\n",
    "    plt.show()\n",
    "\n",
    "# Process athlete_events.csv\n",
    "mac = uuid.getnode()\n",
    "start_time = time.time()\n",
    "memory_before = psutil.Process().memory_info().rss / (1024 * 1024)\n",
    "athlete_events_df = pd.read_csv('athlete_events.csv')\n",
    "sales_data_sample_df = pd.read_csv('sales_data_sample.csv',encoding='Windows-1252')\n",
    "\n",
    "handle_missing_values(athlete_events_df)\n",
    "\n",
    "# Assuming 'Age' is the attribute of interest \n",
    "attribute = 'Age'\n",
    "mean, mode, median = calculate_stats(athlete_events_df, attribute)\n",
    "print(f\"Mean {attribute}: {mean}\")\n",
    "print(f\"Mode {attribute}: {mode}\")\n",
    "print(f\"Median {attribute}: {median}\")\n",
    "\n",
    "visualize_attribute(athlete_events_df, attribute)\n",
    "\n",
    "# Process sales_data_sample.csv\n",
    "handle_missing_values(sales_data_sample_df)\n",
    "\n",
    "# Assuming 'Sales' is the attribute of interest\n",
    "attribute = 'SALES'\n",
    "mean, mode, median = calculate_stats(sales_data_sample_df, attribute)\n",
    "print(f\"\\nMean {attribute}: {mean}\")\n",
    "print(f\"Mode {attribute}: {mode}\")\n",
    "print(f\"Median {attribute}: {median}\")\n",
    "\n",
    "visualize_attribute(sales_data_sample_df, attribute)\n",
    "memory_after = psutil.Process().memory_info().rss / (1024 * 1024)\n",
    "end_time = time.time()\n",
    "mac_address = ':'.join(['{:02x}'.format((mac >> elements) & 0xff) for elements in range(0, 8*6, 8)][::-1])\n",
    "print(f\"MAC Address: {mac_address}\")\n",
    "print(f\"Memory used: {memory_after - memory_before:.2f} MB\")\n",
    "print(f\"Time taken: {end_time - start_time:.4f} seconds\")"
   ]
  },
  {
   "cell_type": "markdown",
   "id": "b1c02228-a279-4647-848f-26ed1e7f0a19",
   "metadata": {},
   "source": [
    "**WEEK 1**\n",
    "\n",
    "tic_tac"
   ]
  },
  {
   "cell_type": "code",
   "execution_count": 3,
   "id": "9d9ee89e-50aa-4b84-ab03-76b5896612b9",
   "metadata": {},
   "outputs": [
    {
     "name": "stdout",
     "output_type": "stream",
     "text": [
      "  |   |  \n",
      "---------\n",
      "  |   |  \n",
      "---------\n",
      "  |   |  \n"
     ]
    },
    {
     "name": "stdin",
     "output_type": "stream",
     "text": [
      "Enter your move (1-9):  5\n"
     ]
    },
    {
     "name": "stdout",
     "output_type": "stream",
     "text": [
      "  |   |  \n",
      "---------\n",
      "  | X | O\n",
      "---------\n",
      "  |   |  \n"
     ]
    },
    {
     "name": "stdin",
     "output_type": "stream",
     "text": [
      "Enter your move (1-9):  1\n"
     ]
    },
    {
     "name": "stdout",
     "output_type": "stream",
     "text": [
      "X |   |  \n",
      "---------\n",
      "  | X | O\n",
      "---------\n",
      "  |   | O\n"
     ]
    },
    {
     "name": "stdin",
     "output_type": "stream",
     "text": [
      "Enter your move (1-9):  7\n"
     ]
    },
    {
     "name": "stdout",
     "output_type": "stream",
     "text": [
      "X |   | O\n",
      "---------\n",
      "  | X | O\n",
      "---------\n",
      "X |   | O\n",
      "Computer wins!\n",
      "MAC Address: e4:a8:df:c1:53:67\n",
      "Memory used: 0.00 MB\n",
      "Time taken: 25.3889 seconds\n"
     ]
    }
   ],
   "source": [
    "import random\n",
    "import time\n",
    "import psutil\n",
    "import uuid\n",
    "import sys\n",
    "def print_board(board):\n",
    "    print(f\"{board[0]} | {board[1]} | {board[2]}\")\n",
    "    print(\"---------\")\n",
    "    print(f\"{board[3]} | {board[4]} | {board[5]}\")\n",
    "    print(\"---------\")\n",
    "    print(f\"{board[6]} | {board[7]} | {board[8]}\")\n",
    "\n",
    "def check_win(board):\n",
    "    win_conditions = [(0, 1, 2), (3, 4, 5), (6, 7, 8), (0, 3, 6), (1, 4, 7), (2, 5, 8), (0, 4, 8), (2, 4, 6)]\n",
    "    for condition in win_conditions:\n",
    "        if board[condition[0]] == board[condition[1]] == board[condition[2]] != \" \":\n",
    "            return True\n",
    "    return False\n",
    "\n",
    "def computer_move(board):\n",
    "    # Check if computer can win in the next move\n",
    "    for i in range(len(board)):\n",
    "        if board[i] == \" \":\n",
    "            board[i] = \"O\"\n",
    "            if check_win(board):\n",
    "                return\n",
    "            board[i] = \" \"\n",
    "    \n",
    "    # Check if user can win in the next move, block them\n",
    "    for i in range(len(board)):\n",
    "        if board[i] == \" \":\n",
    "            board[i] = \"X\"\n",
    "            if check_win(board):\n",
    "                board[i] = \"O\"\n",
    "                return\n",
    "            board[i] = \" \"\n",
    "    \n",
    "    # Otherwise, make a random move\n",
    "    available_moves = [i for i, x in enumerate(board) if x == \" \"]\n",
    "    if available_moves:\n",
    "        move = random.choice(available_moves)\n",
    "        board[move] = \"O\"\n",
    "    else:\n",
    "        print(\"It's a draw!\")\n",
    "        return 999\n",
    "\n",
    "\n",
    "def user_move(board):\n",
    "    move = int(input(\"Enter your move (1-9): \")) - 1\n",
    "    if board[move] == \" \":\n",
    "        board[move] = \"X\"\n",
    "    else:\n",
    "        print(\"Invalid move, try again.\")\n",
    "        user_move(board)\n",
    "    \n",
    "\n",
    "def play_game():\n",
    "    board = [\" \"] * 9\n",
    "    while True:\n",
    "        print_board(board)\n",
    "        user_move(board)\n",
    "        if check_win(board):\n",
    "            print_board(board)\n",
    "            print(\"User wins!\")\n",
    "            break\n",
    "        p=computer_move(board)\n",
    "        if check_win(board) and p!=999:\n",
    "            print_board(board)\n",
    "            print(\"Computer wins!\")\n",
    "            break\n",
    "        if p==999:\n",
    "            break\n",
    "mac = uuid.getnode()\n",
    "start_time = time.time()\n",
    "memory_before = psutil.Process().memory_info().rss / (1024 * 1024)\n",
    "play_game()\n",
    "memory_after = psutil.Process().memory_info().rss / (1024 * 1024)\n",
    "end_time = time.time()\n",
    "mac_address = ':'.join(['{:02x}'.format((mac >> elements) & 0xff) for elements in range(0, 8*6, 8)][::-1])\n",
    "print(f\"MAC Address: {mac_address}\")\n",
    "print(f\"Memory used: {memory_after - memory_before:.2f} MB\")\n",
    "print(f\"Time taken: {end_time - start_time:.4f} seconds\")\n"
   ]
  },
  {
   "cell_type": "markdown",
   "id": "0d87b098-1a39-43a8-a318-0cf4d838ecbb",
   "metadata": {},
   "source": [
    "**Water_jug**\n"
   ]
  },
  {
   "cell_type": "code",
   "execution_count": 4,
   "id": "fb2502a3-1b7f-4c24-9d7d-053ef76f11c6",
   "metadata": {},
   "outputs": [
    {
     "name": "stdin",
     "output_type": "stream",
     "text": [
      "Enter the quantity of Jug 1:  2\n",
      "Enter the quantity of Jug 2:  3\n",
      "Enter the quantity required in Jug 1:  1\n"
     ]
    },
    {
     "name": "stdout",
     "output_type": "stream",
     "text": [
      "Solution Found\n",
      "[(0, 0), (2, 0), (0, 2), (2, 2), (1, 3)]\n",
      "MAC Address: e4:a8:df:c1:53:67\n",
      "Memory used: 0.00 MB\n",
      "Time taken: 21.1191 seconds\n"
     ]
    }
   ],
   "source": [
    "from collections import deque\n",
    "import matplotlib.pyplot as plt\n",
    "import numpy as np\n",
    "import time\n",
    "import psutil\n",
    "import uuid\n",
    "queue = deque()\n",
    "visited = set()\n",
    "queue.append((0, 0,[(0,0)]))\n",
    "\n",
    "def problem(jug1, jug2, q):\n",
    "    while queue:\n",
    "        j1, j2 ,path= queue.popleft()\n",
    "        if (j1, j2) in visited:\n",
    "            continue\n",
    "        if j1 == q:\n",
    "            print(\"Solution Found\")\n",
    "            return path\n",
    "        visited.add((j1, j2))\n",
    "        queue.append((jug1, j2,path+[(jug1, j2)]))\n",
    "        queue.append((j1, jug2,path+[(j1, jug2)]))\n",
    "        queue.append((0, j2,path+[(0,j2)]))\n",
    "        queue.append((j1, 0,path+[(j1,0)]))\n",
    "       \n",
    "        tf = min(j1, jug2 - j2)\n",
    "        queue.append((j1 - tf, j2 + tf,path+[(j1 - tf, j2 + tf)]))\n",
    "        tf = min(j2, jug1 - j1)\n",
    "        queue.append((j1 + tf, j2 - tf,path+[(j1 + tf, j2 - tf)]))\n",
    "    return \"NO SOLUTION\"\n",
    "\n",
    "\n",
    "mac = uuid.getnode()\n",
    "start_time = time.time()\n",
    "memory_before = psutil.Process().memory_info().rss / (1024 * 1024)\n",
    "jug1 = int(input(\"Enter the quantity of Jug 1: \"))\n",
    "jug2 = int(input(\"Enter the quantity of Jug 2: \"))   \n",
    "qty = int(input(\"Enter the quantity required in Jug 1: \"))   \n",
    "\n",
    "print(problem(jug1, jug2, qty))\n",
    "memory_after = psutil.Process().memory_info().rss / (1024 * 1024)\n",
    "end_time = time.time()\n",
    "mac_address = ':'.join(['{:02x}'.format((mac >> elements) & 0xff) for elements in range(0, 8*6, 8)][::-1])\n",
    "print(f\"MAC Address: {mac_address}\")\n",
    "print(f\"Memory used: {memory_after - memory_before:.2f} MB\")\n",
    "print(f\"Time taken: {end_time - start_time:.4f} seconds\")"
   ]
  },
  {
   "cell_type": "markdown",
   "id": "c95237e8-0ebf-49c9-97ee-d21d774fb9e3",
   "metadata": {},
   "source": [
    "**WEEK 2**\n",
    "\n",
    "8 puzzle"
   ]
  },
  {
   "cell_type": "code",
   "execution_count": 5,
   "id": "5a47e7e9-8be1-49da-a9b1-aaf6bd4eeb80",
   "metadata": {},
   "outputs": [
    {
     "name": "stdout",
     "output_type": "stream",
     "text": [
      "2 8 3 \n",
      "1 6 4 \n",
      "7   5 \n",
      "\n",
      "2 8 3 \n",
      "1   4 \n",
      "7 6 5 \n",
      "\n",
      "2   3 \n",
      "1 8 4 \n",
      "7 6 5 \n",
      "\n",
      "  2 3 \n",
      "1 8 4 \n",
      "7 6 5 \n",
      "\n",
      "1 2 3 \n",
      "  8 4 \n",
      "7 6 5 \n",
      "\n",
      "1 2 3 \n",
      "8   4 \n",
      "7 6 5 \n",
      "\n",
      "MAC Address: e4:a8:df:c1:53:67\n",
      "Memory used: 0.00 MB\n",
      "Time taken: 0.0012 seconds\n"
     ]
    }
   ],
   "source": [
    "from collections import deque\n",
    "import time\n",
    "import psutil\n",
    "import uuid\n",
    "def bfs(start, goal):\n",
    "    def get_neighbors(state):\n",
    "        neighbors = []\n",
    "        index = state.index(0)\n",
    "        row, col = divmod(index, 3)\n",
    "        moves = [(-1, 0), (1, 0), (0, -1), (0, 1)]  # Up, Down, Left, Right\n",
    "        for move in moves:\n",
    "            new_row, new_col = row + move[0], col + move[1]\n",
    "            if 0 <= new_row < 3 and 0 <= new_col < 3:\n",
    "                new_index = new_row * 3 + new_col\n",
    "                new_state = state[:]\n",
    "                new_state[index], new_state[new_index] = new_state[new_index], new_state[index]\n",
    "                neighbors.append(new_state)\n",
    "        return neighbors\n",
    "\n",
    "    queue = deque([(start, [])])\n",
    "    visited = set()\n",
    "    visited.add(tuple(start))\n",
    "\n",
    "    while queue:\n",
    "        current_state, path = queue.popleft()\n",
    "        if current_state == goal:\n",
    "            return path + [current_state]\n",
    "        for neighbor in get_neighbors(current_state):\n",
    "            if tuple(neighbor) not in visited:\n",
    "                visited.add(tuple(neighbor))\n",
    "                queue.append((neighbor, path + [current_state]))\n",
    "    return None\n",
    "\n",
    "def print_board(state):\n",
    "    for i in range(3):\n",
    "        for j in range(3):\n",
    "            if state[i * 3 + j] == 0:\n",
    "                print(\" \", end=\" \")\n",
    "            else:\n",
    "                print(state[i * 3 + j], end=\" \")\n",
    "        print()  \n",
    "    print()  \n",
    "\n",
    "mac = uuid.getnode()\n",
    "start_time = time.time()\n",
    "memory_before = psutil.Process().memory_info().rss / (1024 * 1024)\n",
    "initial_state = [2, 8, 3, 1, 6, 4, 7, 0, 5]\n",
    "goal_state = [1, 2, 3, 8, 0, 4, 7, 6, 5]\n",
    "\n",
    "# Solve the puzzle\n",
    "solution_path = bfs(initial_state, goal_state)\n",
    "if solution_path:\n",
    "    for step in solution_path:\n",
    "        print_board(step)\n",
    "else:\n",
    "    print(\"No solution found.\")\n",
    "    \n",
    "memory_after = psutil.Process().memory_info().rss / (1024 * 1024)\n",
    "end_time = time.time()\n",
    "mac_address = ':'.join(['{:02x}'.format((mac >> elements) & 0xff) for elements in range(0, 8*6, 8)][::-1])\n",
    "print(f\"MAC Address: {mac_address}\")\n",
    "print(f\"Memory used: {memory_after - memory_before:.2f} MB\")\n",
    "print(f\"Time taken: {end_time - start_time:.4f} seconds\")"
   ]
  },
  {
   "cell_type": "markdown",
   "id": "101bf4ce-5e99-4ca0-b4cf-7e2b833b804d",
   "metadata": {},
   "source": [
    "**Bfs**\n"
   ]
  },
  {
   "cell_type": "code",
   "execution_count": 6,
   "id": "ec902763-42a3-4dbd-96f9-baeaf7c81f73",
   "metadata": {},
   "outputs": [
    {
     "name": "stdout",
     "output_type": "stream",
     "text": [
      "Path from B to M: ['B', 'X', 'K', 'M']\n",
      "MAC Address: e4:a8:df:c1:53:67\n",
      "Memory used: 0.00 MB\n",
      "Time taken: 0.0005 seconds\n"
     ]
    }
   ],
   "source": [
    "from collections import deque\n",
    "import time\n",
    "import psutil\n",
    "import uuid\n",
    "def bfs(graph, start, goal):\n",
    "    visited = set()\n",
    "    queue = deque([(start, [start])])  # Queue of tuples (node, path)\n",
    "\n",
    "    while queue:\n",
    "        current_node, path = queue.popleft()\n",
    "        if current_node == goal:\n",
    "            return path\n",
    "        if current_node not in visited:\n",
    "            visited.add(current_node)\n",
    "            for neighbor in graph.neighbors(current_node):\n",
    "                if neighbor not in visited:\n",
    "                    new_path = list(path)\n",
    "                    new_path.append(neighbor)\n",
    "                    queue.append((neighbor, new_path))\n",
    "    return None\n",
    "import networkx as nx\n",
    "\n",
    "def create_networkx_graph(adjacency_dict):\n",
    "    G = nx.Graph()\n",
    "    for node, neighbors in adjacency_dict.items():\n",
    "        for neighbor in neighbors:\n",
    "            G.add_edge(node, neighbor)\n",
    "    return G\n",
    "\n",
    "mac = uuid.getnode()\n",
    "start_time = time.time()\n",
    "memory_before = psutil.Process().memory_info().rss / (1024 * 1024)\n",
    "adjacency_dict = {\n",
    "    'B': ['E', 'X'],\n",
    "    'E': ['P', 'G'],\n",
    "    'X': ['K', 'A'],\n",
    "    'P': ['D', 'T'],\n",
    "    'K': ['M'],\n",
    "}\n",
    "\n",
    "\n",
    "graph_nx = create_networkx_graph(adjacency_dict)\n",
    "path_B_to_M = bfs(graph_nx, 'B', 'M')\n",
    "print(\"Path from B to M:\", path_B_to_M)\n",
    "memory_after = psutil.Process().memory_info().rss / (1024 * 1024)\n",
    "end_time = time.time()\n",
    "mac_address = ':'.join(['{:02x}'.format((mac >> elements) & 0xff) for elements in range(0, 8*6, 8)][::-1])\n",
    "print(f\"MAC Address: {mac_address}\")\n",
    "print(f\"Memory used: {memory_after - memory_before:.2f} MB\")\n",
    "print(f\"Time taken: {end_time - start_time:.4f} seconds\")"
   ]
  },
  {
   "cell_type": "markdown",
   "id": "2f4b353a-7dcc-47fa-a839-1fe0e8b9d0fa",
   "metadata": {},
   "source": [
    "**Dfs**"
   ]
  },
  {
   "cell_type": "code",
   "execution_count": 7,
   "id": "90649cfd-2b0c-4348-b814-86b2de1889c4",
   "metadata": {},
   "outputs": [
    {
     "name": "stdout",
     "output_type": "stream",
     "text": [
      "Path from 1 to 11: ['1', '8', '9', '11']\n",
      "MAC Address: e4:a8:df:c1:53:67\n",
      "Memory used: 0.00 MB\n",
      "Time taken: 0.0012 seconds\n"
     ]
    }
   ],
   "source": [
    "from collections import deque\n",
    "import time\n",
    "import psutil\n",
    "import uuid\n",
    "def dfs(graph, start, goal):\n",
    "    stack = [(start, [start])]  # Stack of tuples (node, path)\n",
    "    visited = set()\n",
    "\n",
    "    while stack:\n",
    "        current_node, path = stack.pop()\n",
    "        if current_node == goal:\n",
    "            return path\n",
    "        if current_node not in visited:\n",
    "            visited.add(current_node)\n",
    "            for neighbor in graph.neighbors(current_node):\n",
    "                if neighbor not in visited:\n",
    "                    new_path = list(path)\n",
    "                    new_path.append(neighbor)\n",
    "                    stack.append((neighbor, new_path))\n",
    "    return None\n",
    "\n",
    "import networkx as nx\n",
    "\n",
    "def create_networkx_graph(adjacency_dict):\n",
    "    G = nx.Graph()\n",
    "    for node, neighbors in adjacency_dict.items():\n",
    "        for neighbor in neighbors:\n",
    "            G.add_edge(node, neighbor)\n",
    "    return G\n",
    "\n",
    "mac = uuid.getnode()\n",
    "start_time = time.time()\n",
    "memory_before = psutil.Process().memory_info().rss / (1024 * 1024)\n",
    "\n",
    "adjacency_dict = {\n",
    "    '1': ['2', '7','8'],\n",
    "    '2': ['3', '6'],\n",
    "    '3': ['4', '5'],\n",
    "    '8': ['9', '10', '12'],\n",
    "    '9': ['11'],\n",
    "    # Add other connections if needed\n",
    "}\n",
    "\n",
    "# Create the NetworkX graph\n",
    "graph_nx = create_networkx_graph(adjacency_dict)\n",
    "\n",
    "# Calculate and print the path from 1 to 11 using DFS\n",
    "path_1_to_11 = dfs(graph_nx, '1', '11')\n",
    "print(\"Path from 1 to 11:\", path_1_to_11)\n",
    "\n",
    "memory_after = psutil.Process().memory_info().rss / (1024 * 1024)\n",
    "end_time = time.time()\n",
    "mac_address = ':'.join(['{:02x}'.format((mac >> elements) & 0xff) for elements in range(0, 8*6, 8)][::-1])\n",
    "print(f\"MAC Address: {mac_address}\")\n",
    "print(f\"Memory used: {memory_after - memory_before:.2f} MB\")\n",
    "print(f\"Time taken: {end_time - start_time:.4f} seconds\")"
   ]
  },
  {
   "cell_type": "code",
   "execution_count": null,
   "id": "1032f6b4-c620-4d31-a296-8eed5cda3f04",
   "metadata": {},
   "outputs": [],
   "source": []
  }
 ],
 "metadata": {
  "kernelspec": {
   "display_name": "Python 3 (ipykernel)",
   "language": "python",
   "name": "python3"
  },
  "language_info": {
   "codemirror_mode": {
    "name": "ipython",
    "version": 3
   },
   "file_extension": ".py",
   "mimetype": "text/x-python",
   "name": "python",
   "nbconvert_exporter": "python",
   "pygments_lexer": "ipython3",
   "version": "3.11.9"
  }
 },
 "nbformat": 4,
 "nbformat_minor": 5
}
